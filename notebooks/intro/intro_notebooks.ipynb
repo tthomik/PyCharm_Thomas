{
 "cells": [
  {
   "cell_type": "markdown",
   "metadata": {},
   "source": [
    "# iPython Notebooks"
   ]
  },
  {
   "cell_type": "markdown",
   "metadata": {},
   "source": [
    "Das schöne an iPython Notebooks ist, dass sie einem interactiv python code schreiben lassen und einem die Möglichkeit geben Text zwischen dem Code in einer anschaulichen Version darzustellen!"
   ]
  },
  {
   "cell_type": "code",
   "execution_count": 1,
   "metadata": {},
   "outputs": [
    {
     "name": "stdout",
     "output_type": "stream",
     "text": [
      "Hello World!\n"
     ]
    }
   ],
   "source": [
    "print(\"Hello World!\")"
   ]
  },
  {
   "cell_type": "markdown",
   "metadata": {},
   "source": [
    "Shortcuts für den Umgang mit dem Notebook:\n",
    "- Eine markierte Zelle kann mit der Taste 'm' zu einer Markdown-Zelle gewandelt werden\n",
    "- Eine markierte Zelle kann mit der Taste 'y' wieder zurück zu einer Code-Zelle gewandelt werden\n",
    "- Eine Zelle wird mit 'shift' + 'enter' ausgeführt\n",
    "- Mit der 'tab' Taste kann die autocomplete Funktion aufgerufen werden\n"
   ]
  },
  {
   "cell_type": "markdown",
   "metadata": {},
   "source": [
    "Beachte:\n",
    "- Alle definierten Variablen und Funktionen bleiben im Notebook definiert auch wenn die Zelle mit dem Code gelöscht wurde!\n",
    "- Wenn sich unerklärliche Fehler ergeben, dann Hilft es manchmal den Kernel vom Notebook neu zu starten. (Im Menu Kernel oder der gekrümmte Pfeil neben Stop)"
   ]
  },
  {
   "cell_type": "markdown",
   "metadata": {},
   "source": [
    "##### Auf deinem Rechner läuft ein Notebook-Server. Dieser stellt ein Webinterface (dieses Interface) zur verfügung. Aller python code wird von dem Server ausgeführt. In diesem Fall ist das DEIN Rechner, du könntest aber über das Internet auch auf meinen Notebook-Server zugreifen. Oder auf einem Notebook-Server der in der Cloud läuft"
   ]
  }
 ],
 "metadata": {
  "kernelspec": {
   "display_name": "Python 2",
   "language": "python",
   "name": "python2"
  },
  "language_info": {
   "codemirror_mode": {
    "name": "ipython",
    "version": 2
   },
   "file_extension": ".py",
   "mimetype": "text/x-python",
   "name": "python",
   "nbconvert_exporter": "python",
   "pygments_lexer": "ipython2",
   "version": "2.7.15"
  }
 },
 "nbformat": 4,
 "nbformat_minor": 2
}
