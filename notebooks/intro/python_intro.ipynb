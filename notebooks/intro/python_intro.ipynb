{
 "cells": [
  {
   "cell_type": "markdown",
   "metadata": {},
   "source": [
    "## Variablen"
   ]
  },
  {
   "cell_type": "code",
   "execution_count": null,
   "metadata": {},
   "outputs": [],
   "source": [
    "a = 5\n",
    "print a"
   ]
  },
  {
   "cell_type": "code",
   "execution_count": null,
   "metadata": {},
   "outputs": [],
   "source": [
    "b = 10"
   ]
  },
  {
   "cell_type": "code",
   "execution_count": null,
   "metadata": {},
   "outputs": [],
   "source": [
    "print(a+b)"
   ]
  },
  {
   "cell_type": "code",
   "execution_count": null,
   "metadata": {},
   "outputs": [],
   "source": [
    "c = \"Ein beliebiger Text\""
   ]
  },
  {
   "cell_type": "code",
   "execution_count": null,
   "metadata": {},
   "outputs": [],
   "source": [
    "print(c)"
   ]
  },
  {
   "cell_type": "markdown",
   "metadata": {},
   "source": [
    "# Arrays (variablen vom Typ array)"
   ]
  },
  {
   "cell_type": "code",
   "execution_count": null,
   "metadata": {},
   "outputs": [],
   "source": [
    "mein_array = [1,2,3,4]"
   ]
  },
  {
   "cell_type": "code",
   "execution_count": null,
   "metadata": {},
   "outputs": [],
   "source": [
    "print(mein_array)"
   ]
  },
  {
   "cell_type": "markdown",
   "metadata": {},
   "source": [
    "Nicht structuriete Felder (arrays) -> assoziatives array / dictionary"
   ]
  },
  {
   "cell_type": "code",
   "execution_count": null,
   "metadata": {},
   "outputs": [],
   "source": [
    "meinBuzzwordWoerterbuch = {'BigData': \"Eine Disziplin in der Datenverarbeitung das sich mich sehr großen Datenmengen beschäftigt\", \n",
    "                           'Mashine Learning': \"Der bereich der Datenverarbeitung, der sich mit Maschinellen Lernen beschäftigt\"}"
   ]
  },
  {
   "cell_type": "code",
   "execution_count": null,
   "metadata": {},
   "outputs": [],
   "source": [
    "meinBuzzwordWoerterbuch['Mashine Learning']"
   ]
  },
  {
   "cell_type": "markdown",
   "metadata": {},
   "source": [
    "# Funktionen"
   ]
  },
  {
   "cell_type": "code",
   "execution_count": null,
   "metadata": {},
   "outputs": [],
   "source": [
    "import numpy as np"
   ]
  },
  {
   "cell_type": "code",
   "execution_count": null,
   "metadata": {},
   "outputs": [],
   "source": [
    "def myfunction():\n",
    "    a=7\n",
    "    return a"
   ]
  },
  {
   "cell_type": "code",
   "execution_count": null,
   "metadata": {},
   "outputs": [],
   "source": [
    "myfunction()"
   ]
  },
  {
   "cell_type": "code",
   "execution_count": null,
   "metadata": {},
   "outputs": [],
   "source": [
    "def addiere(a,b):\n",
    "    return a + b"
   ]
  },
  {
   "cell_type": "code",
   "execution_count": null,
   "metadata": {},
   "outputs": [],
   "source": [
    "addiere(7,3)"
   ]
  },
  {
   "cell_type": "code",
   "execution_count": null,
   "metadata": {},
   "outputs": [],
   "source": [
    "addiere([1,2],[1,2])"
   ]
  },
  {
   "cell_type": "code",
   "execution_count": null,
   "metadata": {},
   "outputs": [],
   "source": [
    "addiere(np.zeros(2),np.ones(2))"
   ]
  },
  {
   "cell_type": "markdown",
   "metadata": {},
   "source": [
    "# Klassen"
   ]
  },
  {
   "cell_type": "code",
   "execution_count": null,
   "metadata": {},
   "outputs": [],
   "source": [
    "class Hotel:\n",
    "    hotel_count = 0 # ein klassen attribute auf das alle Instanzen einer Klasse zugreifen können\n",
    "    \n",
    "    def __init__(self, parameter_name, parameter_number_of_rooms, parameter_empire):\n",
    "        self.name = parameter_name\n",
    "        self.num_rooms = parameter_number_of_rooms\n",
    "        self.room_states = [0] * parameter_number_of_rooms\n",
    "        Hotel.hotel_count += 1 # das klassen-globale attribute 'hotel_count' wird hochgezählt\n",
    "        self.empire = parameter_empire\n",
    "        self.empire.add_hotel(self)\n",
    "        \n",
    "    def occupy_room(self, parameter_room_number):\n",
    "        self.room_states[parameter_room_number] = 1\n",
    "        \n",
    "    def free_room(self, parameter_room_number):\n",
    "        self.room_states[parameter_room_number] = 0\n",
    "    \n",
    "    def num_occupied_rooms(self):\n",
    "        return sum(self.room_states)\n",
    "    \n",
    "    def __del__(self):\n",
    "        hotel_count -= 1 # das klassen-globale attribute 'hotel_count' wird runtergezählt\n",
    "    \n",
    "    \n",
    "        "
   ]
  },
  {
   "cell_type": "code",
   "execution_count": null,
   "metadata": {},
   "outputs": [],
   "source": [
    "class Empire:\n",
    "    def __init__(self):\n",
    "        self.hotels = []\n",
    "        self.num_hotels = 0\n",
    "    \n",
    "    def add_hotel(self, hotel):\n",
    "        self.hotels.append(hotel)\n",
    "    \n",
    "    def get_hotel_by_idx(self,parameter_idx):\n",
    "        if(parameter_idx > len(self.hotels)):\n",
    "            return None\n",
    "        return self.hotels[parameter_idx]\n",
    "    \n",
    "    def get_number_total_occupied_rooms(self):\n",
    "        total_number_of_occupied_rooms = 0\n",
    "        for my_crazy_hotel in self.hotels:\n",
    "            total_number_of_occupied_rooms += my_crazy_hotel.num_occupied_rooms()\n",
    "        \n",
    "        return total_number_of_occupied_rooms\n",
    "    \n",
    "    def __del__(self):\n",
    "        print(\"The empire is going down\")"
   ]
  },
  {
   "cell_type": "code",
   "execution_count": null,
   "metadata": {},
   "outputs": [],
   "source": [
    "empire_hamburg = Empire()"
   ]
  },
  {
   "cell_type": "code",
   "execution_count": null,
   "metadata": {},
   "outputs": [],
   "source": [
    "empire_hamburg.hotels"
   ]
  },
  {
   "cell_type": "code",
   "execution_count": null,
   "metadata": {},
   "outputs": [],
   "source": [
    "hamburger_inn = Hotel(\"Hamburger Inn\", 10, empire_hamburg)"
   ]
  },
  {
   "cell_type": "code",
   "execution_count": null,
   "metadata": {},
   "outputs": [],
   "source": [
    "empire_hamburg.hotels"
   ]
  },
  {
   "cell_type": "code",
   "execution_count": null,
   "metadata": {},
   "outputs": [],
   "source": [
    "hamburger_hof = Hotel(\"Hamburger Hof\", 4, empire_hamburg)"
   ]
  },
  {
   "cell_type": "code",
   "execution_count": null,
   "metadata": {},
   "outputs": [],
   "source": [
    "empire_hamburg.hotels"
   ]
  },
  {
   "cell_type": "code",
   "execution_count": null,
   "metadata": {},
   "outputs": [],
   "source": [
    "empire_hamburg.get_number_total_occupied_rooms()"
   ]
  },
  {
   "cell_type": "code",
   "execution_count": null,
   "metadata": {},
   "outputs": [],
   "source": [
    "hamburger_hof.hotel_count"
   ]
  },
  {
   "cell_type": "code",
   "execution_count": null,
   "metadata": {},
   "outputs": [],
   "source": [
    "hamburger_hof.occupy_room(3)"
   ]
  },
  {
   "cell_type": "code",
   "execution_count": null,
   "metadata": {},
   "outputs": [],
   "source": [
    "empire_hamburg.get_number_total_occupied_rooms()"
   ]
  },
  {
   "cell_type": "code",
   "execution_count": null,
   "metadata": {},
   "outputs": [],
   "source": [
    "hamburger_hof.num_occupied_rooms()"
   ]
  },
  {
   "cell_type": "code",
   "execution_count": null,
   "metadata": {},
   "outputs": [],
   "source": [
    "empire_berlin = Empire()"
   ]
  },
  {
   "cell_type": "code",
   "execution_count": null,
   "metadata": {},
   "outputs": [],
   "source": [
    "berliner_hof = Hotel(\"Berliner Hof\", 12345, empire_hamburg)"
   ]
  },
  {
   "cell_type": "code",
   "execution_count": null,
   "metadata": {},
   "outputs": [],
   "source": [
    "berliner_hof.num_occupied_rooms()"
   ]
  },
  {
   "cell_type": "markdown",
   "metadata": {},
   "source": [
    "Die Gesammtzahl an Hotels kann mit anhand der Klassenvariablen 'hotel_count' abgefragt werden"
   ]
  },
  {
   "cell_type": "code",
   "execution_count": null,
   "metadata": {},
   "outputs": [],
   "source": [
    "berliner_hof.hotel_count"
   ]
  },
  {
   "cell_type": "code",
   "execution_count": null,
   "metadata": {},
   "outputs": [],
   "source": [
    "del empire_berlin"
   ]
  },
  {
   "cell_type": "markdown",
   "metadata": {},
   "source": [
    "## Alternative zu dem Empire, eine Liste an Hotels"
   ]
  },
  {
   "cell_type": "code",
   "execution_count": null,
   "metadata": {},
   "outputs": [],
   "source": [
    "meine_hotels = []"
   ]
  },
  {
   "cell_type": "code",
   "execution_count": null,
   "metadata": {},
   "outputs": [],
   "source": [
    "meine_hotels.append(hamburger_hof)"
   ]
  },
  {
   "cell_type": "code",
   "execution_count": null,
   "metadata": {},
   "outputs": [],
   "source": [
    "meine_hotels.append(berliner_hof)"
   ]
  },
  {
   "cell_type": "code",
   "execution_count": null,
   "metadata": {},
   "outputs": [],
   "source": [
    "meine_hotels"
   ]
  },
  {
   "cell_type": "code",
   "execution_count": null,
   "metadata": {},
   "outputs": [],
   "source": [
    "meine_hotels[0].num_occupied_rooms()"
   ]
  },
  {
   "cell_type": "code",
   "execution_count": null,
   "metadata": {},
   "outputs": [],
   "source": [
    "total_number_of_occupied_rooms = 0\n",
    "for my_crazy_hotel in meine_hotels:\n",
    "    total_number_of_occupied_rooms += my_crazy_hotel.num_occupied_rooms() \n",
    "\n",
    "print(total_number_of_occupied_rooms)"
   ]
  },
  {
   "cell_type": "code",
   "execution_count": null,
   "metadata": {},
   "outputs": [],
   "source": [
    "berliner_hof.occupy_room(4)\n",
    "berliner_hof.occupy_room(6)\n",
    "berliner_hof.occupy_room(7)\n",
    "berliner_hof.occupy_room(412)\n",
    "berliner_hof.occupy_room(4222)\n",
    "berliner_hof.occupy_room(444)"
   ]
  },
  {
   "cell_type": "markdown",
   "metadata": {},
   "source": [
    "### ... oder eine dictionary von Hotels:"
   ]
  },
  {
   "cell_type": "code",
   "execution_count": null,
   "metadata": {},
   "outputs": [],
   "source": [
    "my_hotel_dict = { \"Hamburg\" : hamburger_hof, \"Berlin\": berliner_hof}"
   ]
  },
  {
   "cell_type": "code",
   "execution_count": null,
   "metadata": {},
   "outputs": [],
   "source": [
    "my_hotel_dict[\"Hamburg\"].name"
   ]
  }
 ],
 "metadata": {
  "kernelspec": {
   "display_name": "Python 2",
   "language": "python",
   "name": "python2"
  },
  "language_info": {
   "codemirror_mode": {
    "name": "ipython",
    "version": 2
   },
   "file_extension": ".py",
   "mimetype": "text/x-python",
   "name": "python",
   "nbconvert_exporter": "python",
   "pygments_lexer": "ipython2",
   "version": "2.7.15"
  }
 },
 "nbformat": 4,
 "nbformat_minor": 2
}
