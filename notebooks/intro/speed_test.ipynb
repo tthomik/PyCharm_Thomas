{
 "cells": [
  {
   "cell_type": "markdown",
   "metadata": {},
   "source": [
    "## Speedtest"
   ]
  },
  {
   "cell_type": "markdown",
   "metadata": {},
   "source": [
    "In diesem Notebook soll anhand der Summenberechnung dargestellt werden, warum es manchmal sinnvoll ist auf bestimmte Module/Packete zurückzugreifen. Packete stellen Funktionalität bereit, die meist für eine spezielle Anwendung optimiert. In unserem Fall, in dem es um die Verarbeitung von größeren Datenmengen und die Durchführung von einer vielzahl an Berechnungen geht, ist auch die Verarbeitungsgeschwindigkeit von Bedeutung.\n",
    "\n",
    "Wir wollen zunächst die Module/Packete *numpy* und *pandas* für die Organisation der Daten nutzen.\n",
    "\n",
    "Am Beispiel dieses 'Speedtests' soll gezeigt werden, dass es nicht unerhebliche Unterschiede in der Berechnungsgeschwindigkeit zwischen unterschiedlichen Lösungen gibt. Es soll anhand der einfachen Berechnung einer Summe gezeigt werden.\n",
    "\n",
    "Es wird verglichen:\n",
    "- die manuelle Berechnung der Summe mittels einer 'for loop'\n",
    "- die Berechnung der Summe mittels der Python Funktion 'sum()'\n",
    "- die Berechnung der Summe innerhalb eines 'numpy arrays' und der numpy array Funktion sum()\n",
    "- die Berechnung der Summe innerhalb eines 'pandas dataframes' und der dataframe object Funktion sum()\n",
    "\n",
    "Wir führen jede Messung 'num_experiements' mal durch, um stabilere Ergebnisse zu bekommen."
   ]
  },
  {
   "cell_type": "code",
   "execution_count": null,
   "metadata": {},
   "outputs": [],
   "source": [
    "import time # für die Zeitmessung\n",
    "import numpy as np\n",
    "import pandas as pd"
   ]
  },
  {
   "cell_type": "code",
   "execution_count": null,
   "metadata": {},
   "outputs": [],
   "source": [
    "n = 5000000\n",
    "num_expiriments = 10"
   ]
  },
  {
   "cell_type": "markdown",
   "metadata": {},
   "source": [
    "### Der manuelle Versuch der Summenbildung:\n",
    "(ohne auf die Summenfunktion von Python zurückzugreifen)"
   ]
  },
  {
   "cell_type": "code",
   "execution_count": null,
   "metadata": {},
   "outputs": [],
   "source": [
    "python_array = [1] * n # array mit n Einträgen"
   ]
  },
  {
   "cell_type": "code",
   "execution_count": null,
   "metadata": {},
   "outputs": [],
   "source": [
    "len(python_array)"
   ]
  },
  {
   "cell_type": "code",
   "execution_count": null,
   "metadata": {},
   "outputs": [],
   "source": [
    "time_loop = 0\n",
    "\n",
    "for exp in range(0, num_expiriments):\n",
    "    start = time.time() # startzeit\n",
    "\n",
    "    summe = 0\n",
    "    for x in range(0, n):\n",
    "        summe += python_array[x] \n",
    "\n",
    "    end = time.time() # endzeit\n",
    "\n",
    "    # Berechnung der Dauer für diesen durchlauf\n",
    "    time_loop += end - start\n",
    "\n",
    "# Berechne die durchschnittliche Dauer pro Experiment\n",
    "avg_time_loop = time_loop / float(num_expiriments)\n",
    "    \n",
    "print(\"Durchschnittliche Dauer: \" + str(avg_time_loop) + \" s\") # str() convertiert die Zahlen in einen String "
   ]
  },
  {
   "cell_type": "code",
   "execution_count": null,
   "metadata": {},
   "outputs": [],
   "source": [
    "summe"
   ]
  },
  {
   "cell_type": "markdown",
   "metadata": {},
   "source": [
    "---"
   ]
  },
  {
   "cell_type": "markdown",
   "metadata": {},
   "source": [
    "### Die Umsetzung mit Hilfer der Summenfunktion von Python"
   ]
  },
  {
   "cell_type": "code",
   "execution_count": null,
   "metadata": {},
   "outputs": [],
   "source": [
    "time_pySum = 0\n",
    "\n",
    "for exp in range(0, num_expiriments):\n",
    "    start = time.time() # startzeit\n",
    "\n",
    "    summe_py = sum(python_array)\n",
    "    end = time.time() # endzeit\n",
    "\n",
    "    # Berechnung der Dauer und formatierte Ausgabe\n",
    "    time_pySum += end - start\n",
    "        \n",
    "# Berechne die durchschnittliche Dauer pro Experiment\n",
    "avg_time_pySum = time_pySum / float(num_expiriments)\n",
    "    \n",
    "print(\"Durchschnittliche Dauer: \" + str(avg_time_pySum) + \" s\")"
   ]
  },
  {
   "cell_type": "code",
   "execution_count": null,
   "metadata": {},
   "outputs": [],
   "source": [
    "summe_py"
   ]
  },
  {
   "cell_type": "markdown",
   "metadata": {},
   "source": [
    "---"
   ]
  },
  {
   "cell_type": "markdown",
   "metadata": {},
   "source": [
    "### Die Umsetzung mit numpy"
   ]
  },
  {
   "cell_type": "code",
   "execution_count": null,
   "metadata": {},
   "outputs": [],
   "source": [
    "numpy_array = np.ones(n)"
   ]
  },
  {
   "cell_type": "code",
   "execution_count": null,
   "metadata": {},
   "outputs": [],
   "source": [
    "numpy_array.size"
   ]
  },
  {
   "cell_type": "code",
   "execution_count": null,
   "metadata": {},
   "outputs": [],
   "source": [
    "time_np = 0\n",
    "\n",
    "for exp in range(0, num_expiriments):\n",
    "    start = time.time() # startzeit\n",
    "\n",
    "    summe_np = numpy_array.sum()\n",
    "\n",
    "    end = time.time() # endzeit\n",
    "\n",
    "    # Berechnung der Dauer für diese Iteration\n",
    "    time_np += end - start\n",
    "  \n",
    "# Berechne die durchschnittliche Dauer pro Experiment\n",
    "avg_time_np = time_np / float(num_expiriments)\n",
    "    \n",
    "print(\"Durchschnittliche Dauer: \" + str(avg_time_np) + \" s\")"
   ]
  },
  {
   "cell_type": "code",
   "execution_count": null,
   "metadata": {},
   "outputs": [],
   "source": [
    "summe_np"
   ]
  },
  {
   "cell_type": "markdown",
   "metadata": {},
   "source": [
    "---"
   ]
  },
  {
   "cell_type": "markdown",
   "metadata": {},
   "source": [
    "### Die Umsetzung mit Pandas"
   ]
  },
  {
   "cell_type": "code",
   "execution_count": null,
   "metadata": {},
   "outputs": [],
   "source": [
    "pandas_df = pd.DataFrame(np.ones(n)) "
   ]
  },
  {
   "cell_type": "code",
   "execution_count": null,
   "metadata": {},
   "outputs": [],
   "source": [
    "time_pd = 0\n",
    "for exp in range(0, num_expiriments):\n",
    "    start = time.time() # startzeit\n",
    "\n",
    "    summe_pd = pandas_df.sum()\n",
    "\n",
    "    end = time.time() # endzeit\n",
    "\n",
    "    # Berechnung der Dauer für diese Iteration\n",
    "    time_pd += end - start\n",
    "\n",
    "# Berechne die durchschnittliche Dauer pro Experiment\n",
    "avg_time_pd = time_pd / float(num_expiriments)\n",
    "    \n",
    "print(str(avg_time_pd) + \" s\")"
   ]
  },
  {
   "cell_type": "markdown",
   "metadata": {},
   "source": [
    "---"
   ]
  },
  {
   "cell_type": "markdown",
   "metadata": {},
   "source": [
    "### Results"
   ]
  },
  {
   "cell_type": "code",
   "execution_count": null,
   "metadata": {},
   "outputs": [],
   "source": [
    "print(\"Speedup Python-Summe vs. Summenbildung mittels for-Schleife: \")\n",
    "print(avg_time_loop / avg_time_pySum)"
   ]
  },
  {
   "cell_type": "code",
   "execution_count": null,
   "metadata": {},
   "outputs": [],
   "source": [
    "print(\"Speedup Pandas vs. Python-Summe: \")\n",
    "print(avg_time_pySum / avg_time_pd)"
   ]
  },
  {
   "cell_type": "code",
   "execution_count": null,
   "metadata": {},
   "outputs": [],
   "source": [
    "print(\"Speedup Numpy vs. Pandas-Summe: \")\n",
    "print(avg_time_pd / avg_time_np)"
   ]
  },
  {
   "cell_type": "code",
   "execution_count": null,
   "metadata": {},
   "outputs": [],
   "source": [
    "print(\"Speedup Numpy vs. Python-Summe: \")\n",
    "print(avg_time_pySum / avg_time_np)"
   ]
  },
  {
   "cell_type": "code",
   "execution_count": null,
   "metadata": {},
   "outputs": [],
   "source": [
    "print(\"Speedup Numpy vs. Loop-Summe: \")\n",
    "print(avg_time_loop / avg_time_np)"
   ]
  },
  {
   "cell_type": "markdown",
   "metadata": {},
   "source": [
    "Die Berechnung auf den numpy arrays ist mit Abstand am schnellsten. Die manuelle Berechnung mittels der for-Schleife dauert mit Abstand am längsten. Der Unterschied zwischen Pandas und der Python Summe ist relativ zu den anderen Ergebnissen gering.\n",
    "Für die Berechnung eignen sich also numpy arrays am besten, allerding bieten Pandas Dataframes andere Vorteile in der Verwaltung und Organistation der Daten. "
   ]
  },
  {
   "cell_type": "code",
   "execution_count": null,
   "metadata": {},
   "outputs": [],
   "source": []
  }
 ],
 "metadata": {
  "kernelspec": {
   "display_name": "Python 2",
   "language": "python",
   "name": "python2"
  },
  "language_info": {
   "codemirror_mode": {
    "name": "ipython",
    "version": 2
   },
   "file_extension": ".py",
   "mimetype": "text/x-python",
   "name": "python",
   "nbconvert_exporter": "python",
   "pygments_lexer": "ipython2",
   "version": "2.7.15"
  }
 },
 "nbformat": 4,
 "nbformat_minor": 2
}
