{
 "cells": [
  {
   "cell_type": "markdown",
   "metadata": {},
   "source": [
    "# Handgeschriebene Ziffern"
   ]
  },
  {
   "cell_type": "markdown",
   "metadata": {},
   "source": [
    "Der beiliegenden Beschreibung der Daten habe ich entnommen, dass es sich um handgeschriebene Ziffern handelt. Die mit 16x16 Bildpunkten abgespeichert sind. Der Beschreibung kann ich weiter entnehmen:\n",
    "\n",
    "*\"The data are in two gzipped files, and each line consists of the digit\n",
    "id (0-9) followed by the 256 grayscale values.\"*\n",
    "\n",
    "Es handelt sich also um eine Textdatei in der in jeder Zeile der Wert der geschriebenen Ziffer sowie die 16x16 = 256 Bildpunkte stehen."
   ]
  },
  {
   "cell_type": "markdown",
   "metadata": {},
   "source": [
    "---"
   ]
  },
  {
   "cell_type": "code",
   "execution_count": 1,
   "metadata": {},
   "outputs": [],
   "source": [
    "import time\n",
    "import numpy as np\n",
    "import pandas as pd\n",
    "import matplotlib.pyplot as plt\n",
    "\n",
    "from sklearn.cluster import KMeans\n",
    "from sklearn.mixture import GaussianMixture\n",
    "from sklearn.neighbors import KNeighborsClassifier\n",
    "from sklearn.linear_model import LogisticRegression\n",
    "\n",
    "from sklearn.linear_model import SGDClassifier"
   ]
  },
  {
   "cell_type": "markdown",
   "metadata": {},
   "source": [
    "---"
   ]
  },
  {
   "cell_type": "code",
   "execution_count": 2,
   "metadata": {},
   "outputs": [],
   "source": [
    "def getNumber(data, digit):\n",
    "    # wähle alle Zeilen in denen die erste Spalte (Spalte mit den Ziffer) mit 'digit' übereinstimmt\n",
    "    data_number = pd.DataFrame(data[data[0] == digit]) \n",
    "    # schneide die erste Spalte weg und gebe den rest zurück\n",
    "    separated_data = data_number.iloc[:,1:]\n",
    "    return separated_data\n"
   ]
  },
  {
   "cell_type": "code",
   "execution_count": 3,
   "metadata": {},
   "outputs": [],
   "source": [
    "def getNumberImage(data, digit, aggregation):\n",
    "    # ruft die Hilfsfunktion getNumber auf um alle Bilddaten Daten zu einer Ziffer zu holen\n",
    "    image_data = getNumber(data, digit)\n",
    "    # bilde aus allen Bildern zu der einen Ziffer ein aggrigiertes Bild\n",
    "    if(aggregation == 'median'):\n",
    "        df1 = pd.DataFrame(image_data.median())\n",
    "    else:\n",
    "        df1 = pd.DataFrame(image_data.mean())        \n",
    "    \n",
    "    # wandle das format von (1,256) -> (16,16) und gebe diesen transformierten DataFrame zurück\n",
    "    return df1.values.reshape(16,16)"
   ]
  },
  {
   "cell_type": "code",
   "execution_count": 4,
   "metadata": {},
   "outputs": [],
   "source": [
    "class Experiment:\n",
    "    def __init__(self, targets_train, targets_predict):\n",
    "        self.results_train = pd.DataFrame(targets_train, columns=[\"targets\"])\n",
    "        self.results_predict = pd.DataFrame(targets_predict, columns=[\"targets\"])\n",
    "\n",
    "        self.input_data = {}\n",
    "        \n",
    "        self.names = []        \n",
    "        self.configs = []\n",
    "\n",
    "        \n",
    "    def get_names(self):\n",
    "        return self.names\n",
    "    \n",
    "    \n",
    "    def get_results(self):\n",
    "        return self.results_train, self.results_predict\n",
    "    \n",
    "    def get_config_map(self):\n",
    "        for conf in self.configs:\n",
    "            print (\"CONFIG:\", conf['name'], conf['input_data_name'], \"\\tNum features:\", self.input_data[conf['input_data_name']]['data'].shape[1])\n",
    "    \n",
    "    \n",
    "    def add_input_data(self, name, data, description=\"\"):\n",
    "        self.input_data[name] = {'description': description, 'data': data}\n",
    "    \n",
    "    \n",
    "    def add_config(self, algo, name, input_data_name):\n",
    "        # TODO: add check for dublicate names\n",
    "        if input_data_name not in self.input_data:\n",
    "            print (\"ERROR: feature_set_name not found\")\n",
    "            return \n",
    "        \n",
    "        self.names.append(name)\n",
    "        self.configs.append({ 'name': name, 'algo': algo, 'input_data_name': input_data_name, 'fit': -1})\n",
    "        \n",
    "\n",
    "    def _fit(self, conf):\n",
    "        # get features\n",
    "        input_data = self.input_data[conf['input_data_name']]['data']\n",
    "\n",
    "        # fit the features\n",
    "        print (\"Fitting \", conf['name'], \"... \")\n",
    "        \n",
    "        start = time.time() # startzeit\n",
    "        conf['fit'] = conf['algo'].fit(input_data, self.results_train['targets'])\n",
    "        end = time.time() # startzeit\n",
    "        \n",
    "        print (\"done in \", end - start , \"s.\")\n",
    "\n",
    "        \n",
    "    \n",
    "    def _predict(self, conf, data, train):\n",
    "        if data.shape[1] != self.input_data[conf['input_data_name']]['data'].shape[1]:\n",
    "            print (\"ERROR: Number of input features does not match (\", conf['name'], \")\")\n",
    "            return\n",
    "        \n",
    "        print (\"Predicting data with\", conf['name'], \"... \")\n",
    "        \n",
    "        start = time.time() # startzeit\n",
    "        if train:\n",
    "            self.results_train[conf['name']] = conf['algo'].predict(data)\n",
    "        else:\n",
    "            self.results_predict[conf['name']] = conf['algo'].predict(data)\n",
    "        end = time.time() # startzeit\n",
    "        \n",
    "        print (\"done in \", end - start , \"s.\" )\n",
    "        \n",
    "    \n",
    "    def fit(self):\n",
    "        '''Only trains algorithms if no fit has been calculated before'''\n",
    "        for conf in self.configs:\n",
    "            if conf['fit'] == -1:\n",
    "                self._fit(conf)\n",
    "\n",
    "                \n",
    "    def fit_all(self, data):\n",
    "        '''Trains all algorithms with given data'''\n",
    "        for conf in self.configs:\n",
    "            self._fit(conf)\n",
    "\n",
    "            \n",
    "    def refit(self, data):\n",
    "        '''Retrains all algorithms with given data that have been trained before'''\n",
    "        for conf in self.configs:\n",
    "            if conf['fit'] != -1:\n",
    "                self._fit(conf)\n",
    "\n",
    "                \n",
    "    def predict(self, name, data, train=False):\n",
    "        for conf in self.configs:\n",
    "            if conf['fit'] != -1 and conf['name'] == name:\n",
    "                self._predict(conf, data, train)\n",
    "                \n",
    "    def predict_all(self, data, train=False):\n",
    "        for conf in self.configs:\n",
    "            if conf['fit'] != -1:\n",
    "                self._predict(conf, data, train)\n",
    "\n",
    "    def predict_proba(self, name, data):\n",
    "        for conf in self.configs:\n",
    "            if conf['fit'] != -1 and conf['name'] == name:\n",
    "                return self._predict_proba(conf, data)\n",
    "\n",
    "    def _predict_proba(self, conf, data):\n",
    "        if data.shape[1] != self.input_data[conf['input_data_name']]['data'].shape[1]:\n",
    "            print (\"ERROR: Number of input features does not match (\", conf['name'], \")\")\n",
    "            return\n",
    "        \n",
    "        print (\"Predicting data with\", conf['name'], \"... \")\n",
    "        \n",
    "        start = time.time() # startzeit\n",
    "        probabilities = conf['algo'].predict_proba(data)\n",
    "        end = time.time() # startzeit\n",
    "        \n",
    "        print (\"done in \", end - start , \"s.\" )\n",
    "        return probabilities\n",
    "\n",
    "    \n",
    "    def get_count_df(self, name):\n",
    "        count_matrix = np.zeros((10,10)) \n",
    "        for digit in range(0,10):\n",
    "            cluster_counts = self.results_train[self.results_train['targets'] == digit].groupby(name).count()['targets']\n",
    "            for cluster in cluster_counts.keys():\n",
    "                count_matrix[digit][cluster] = cluster_counts[cluster]\n",
    "        \n",
    "        col_names = []\n",
    "        for i in range(0,10):\n",
    "            col_names.append(\"C_\" + str(i))\n",
    "    \n",
    "        return pd.DataFrame(count_matrix, columns=col_names)\n",
    "\n",
    "    def get_norm_df(self, name):\n",
    "        count_df = self.get_count_df(name)\n",
    "        return count_df.divide(count_df.sum(1), axis=0)\n",
    "    \n",
    "    \n",
    "    def get_all_error_rates(self):\n",
    "        error_rates = {}\n",
    "        for conf in self.configs:\n",
    "            if (conf['fit'] != -1) & (conf['name'] in self.results_train.columns):\n",
    "                error_rates[conf['name']] = self.get_error_rate(conf['name'])\n",
    "        return error_rates\n",
    "                \n",
    "    def get_error_rate(self, name):\n",
    "        '''Determine classification error by identifying best fitting column assignment'''\n",
    "       \n",
    "            "
   ]
  },
  {
   "cell_type": "markdown",
   "metadata": {},
   "source": [
    "---"
   ]
  },
  {
   "cell_type": "code",
   "execution_count": 5,
   "metadata": {},
   "outputs": [],
   "source": [
    "# mit header=None, wird die erste Zeile der Datei nicht als Header interpretiert \n",
    "#              (Man könnte den Header in einem solchen Fall als Zeile mit den Spaltenüberschriften bezeichnen)\n",
    "# mit sep=\" \", geben wir an, dass wir das Leerzeichen als Seperator verwenden wollen. \n",
    "#              D.h. zwei durch ein Leerzeichen separierte Werte sollen als zwei Werte eingelesen werden.\n",
    "data_train = pd.read_csv(\"../data/zip.train\", header=None, sep=\" \") "
   ]
  },
  {
   "cell_type": "code",
   "execution_count": 6,
   "metadata": {},
   "outputs": [
    {
     "data": {
      "text/plain": [
       "(7291, 257)"
      ]
     },
     "execution_count": 6,
     "metadata": {},
     "output_type": "execute_result"
    }
   ],
   "source": [
    "cleaned_train_data = data_train.dropna(axis=1, thresh=2) # lass alle Spalten mit mehr als 2 NaN (Not a Number) vom datensatz fallen \n",
    "cleaned_train_data.shape"
   ]
  },
  {
   "cell_type": "code",
   "execution_count": 7,
   "metadata": {},
   "outputs": [
    {
     "data": {
      "text/html": [
       "<div>\n",
       "<style scoped>\n",
       "    .dataframe tbody tr th:only-of-type {\n",
       "        vertical-align: middle;\n",
       "    }\n",
       "\n",
       "    .dataframe tbody tr th {\n",
       "        vertical-align: top;\n",
       "    }\n",
       "\n",
       "    .dataframe thead th {\n",
       "        text-align: right;\n",
       "    }\n",
       "</style>\n",
       "<table border=\"1\" class=\"dataframe\">\n",
       "  <thead>\n",
       "    <tr style=\"text-align: right;\">\n",
       "      <th></th>\n",
       "      <th>0</th>\n",
       "      <th>1</th>\n",
       "      <th>2</th>\n",
       "      <th>3</th>\n",
       "      <th>4</th>\n",
       "      <th>5</th>\n",
       "      <th>6</th>\n",
       "      <th>7</th>\n",
       "      <th>8</th>\n",
       "      <th>9</th>\n",
       "      <th>...</th>\n",
       "      <th>247</th>\n",
       "      <th>248</th>\n",
       "      <th>249</th>\n",
       "      <th>250</th>\n",
       "      <th>251</th>\n",
       "      <th>252</th>\n",
       "      <th>253</th>\n",
       "      <th>254</th>\n",
       "      <th>255</th>\n",
       "      <th>256</th>\n",
       "    </tr>\n",
       "  </thead>\n",
       "  <tbody>\n",
       "    <tr>\n",
       "      <th>count</th>\n",
       "      <td>7291.000000</td>\n",
       "      <td>7291.000000</td>\n",
       "      <td>7291.000000</td>\n",
       "      <td>7291.000000</td>\n",
       "      <td>7291.000000</td>\n",
       "      <td>7291.000000</td>\n",
       "      <td>7291.000000</td>\n",
       "      <td>7291.000000</td>\n",
       "      <td>7291.000000</td>\n",
       "      <td>7291.000000</td>\n",
       "      <td>...</td>\n",
       "      <td>7291.000000</td>\n",
       "      <td>7291.000000</td>\n",
       "      <td>7291.000000</td>\n",
       "      <td>7291.000000</td>\n",
       "      <td>7291.000000</td>\n",
       "      <td>7291.000000</td>\n",
       "      <td>7291.000000</td>\n",
       "      <td>7291.000000</td>\n",
       "      <td>7291.000000</td>\n",
       "      <td>7291.000000</td>\n",
       "    </tr>\n",
       "    <tr>\n",
       "      <th>mean</th>\n",
       "      <td>3.903443</td>\n",
       "      <td>-0.996417</td>\n",
       "      <td>-0.981138</td>\n",
       "      <td>-0.951153</td>\n",
       "      <td>-0.887738</td>\n",
       "      <td>-0.773468</td>\n",
       "      <td>-0.610302</td>\n",
       "      <td>-0.368991</td>\n",
       "      <td>-0.045769</td>\n",
       "      <td>-0.052641</td>\n",
       "      <td>...</td>\n",
       "      <td>-0.198547</td>\n",
       "      <td>0.139823</td>\n",
       "      <td>0.116439</td>\n",
       "      <td>-0.314108</td>\n",
       "      <td>-0.653711</td>\n",
       "      <td>-0.837858</td>\n",
       "      <td>-0.922194</td>\n",
       "      <td>-0.957393</td>\n",
       "      <td>-0.979290</td>\n",
       "      <td>-0.994678</td>\n",
       "    </tr>\n",
       "    <tr>\n",
       "      <th>std</th>\n",
       "      <td>2.996386</td>\n",
       "      <td>0.051713</td>\n",
       "      <td>0.151202</td>\n",
       "      <td>0.244264</td>\n",
       "      <td>0.360516</td>\n",
       "      <td>0.502659</td>\n",
       "      <td>0.628710</td>\n",
       "      <td>0.716032</td>\n",
       "      <td>0.768304</td>\n",
       "      <td>0.752979</td>\n",
       "      <td>...</td>\n",
       "      <td>0.772895</td>\n",
       "      <td>0.752984</td>\n",
       "      <td>0.757336</td>\n",
       "      <td>0.725859</td>\n",
       "      <td>0.582555</td>\n",
       "      <td>0.414646</td>\n",
       "      <td>0.300830</td>\n",
       "      <td>0.228700</td>\n",
       "      <td>0.158998</td>\n",
       "      <td>0.066056</td>\n",
       "    </tr>\n",
       "    <tr>\n",
       "      <th>min</th>\n",
       "      <td>0.000000</td>\n",
       "      <td>-1.000000</td>\n",
       "      <td>-1.000000</td>\n",
       "      <td>-1.000000</td>\n",
       "      <td>-1.000000</td>\n",
       "      <td>-1.000000</td>\n",
       "      <td>-1.000000</td>\n",
       "      <td>-1.000000</td>\n",
       "      <td>-1.000000</td>\n",
       "      <td>-1.000000</td>\n",
       "      <td>...</td>\n",
       "      <td>-1.000000</td>\n",
       "      <td>-1.000000</td>\n",
       "      <td>-1.000000</td>\n",
       "      <td>-1.000000</td>\n",
       "      <td>-1.000000</td>\n",
       "      <td>-1.000000</td>\n",
       "      <td>-1.000000</td>\n",
       "      <td>-1.000000</td>\n",
       "      <td>-1.000000</td>\n",
       "      <td>-1.000000</td>\n",
       "    </tr>\n",
       "    <tr>\n",
       "      <th>25%</th>\n",
       "      <td>1.000000</td>\n",
       "      <td>-1.000000</td>\n",
       "      <td>-1.000000</td>\n",
       "      <td>-1.000000</td>\n",
       "      <td>-1.000000</td>\n",
       "      <td>-1.000000</td>\n",
       "      <td>-1.000000</td>\n",
       "      <td>-1.000000</td>\n",
       "      <td>-0.999000</td>\n",
       "      <td>-0.950000</td>\n",
       "      <td>...</td>\n",
       "      <td>-1.000000</td>\n",
       "      <td>-0.661500</td>\n",
       "      <td>-0.738000</td>\n",
       "      <td>-1.000000</td>\n",
       "      <td>-1.000000</td>\n",
       "      <td>-1.000000</td>\n",
       "      <td>-1.000000</td>\n",
       "      <td>-1.000000</td>\n",
       "      <td>-1.000000</td>\n",
       "      <td>-1.000000</td>\n",
       "    </tr>\n",
       "    <tr>\n",
       "      <th>50%</th>\n",
       "      <td>4.000000</td>\n",
       "      <td>-1.000000</td>\n",
       "      <td>-1.000000</td>\n",
       "      <td>-1.000000</td>\n",
       "      <td>-1.000000</td>\n",
       "      <td>-1.000000</td>\n",
       "      <td>-1.000000</td>\n",
       "      <td>-0.719000</td>\n",
       "      <td>0.061000</td>\n",
       "      <td>0.002000</td>\n",
       "      <td>...</td>\n",
       "      <td>-0.353000</td>\n",
       "      <td>0.368000</td>\n",
       "      <td>0.336000</td>\n",
       "      <td>-0.579000</td>\n",
       "      <td>-1.000000</td>\n",
       "      <td>-1.000000</td>\n",
       "      <td>-1.000000</td>\n",
       "      <td>-1.000000</td>\n",
       "      <td>-1.000000</td>\n",
       "      <td>-1.000000</td>\n",
       "    </tr>\n",
       "    <tr>\n",
       "      <th>75%</th>\n",
       "      <td>7.000000</td>\n",
       "      <td>-1.000000</td>\n",
       "      <td>-1.000000</td>\n",
       "      <td>-1.000000</td>\n",
       "      <td>-1.000000</td>\n",
       "      <td>-0.962000</td>\n",
       "      <td>-0.391000</td>\n",
       "      <td>0.254500</td>\n",
       "      <td>0.696000</td>\n",
       "      <td>0.674500</td>\n",
       "      <td>...</td>\n",
       "      <td>0.554000</td>\n",
       "      <td>0.835000</td>\n",
       "      <td>0.815000</td>\n",
       "      <td>0.346000</td>\n",
       "      <td>-0.504500</td>\n",
       "      <td>-1.000000</td>\n",
       "      <td>-1.000000</td>\n",
       "      <td>-1.000000</td>\n",
       "      <td>-1.000000</td>\n",
       "      <td>-1.000000</td>\n",
       "    </tr>\n",
       "    <tr>\n",
       "      <th>max</th>\n",
       "      <td>9.000000</td>\n",
       "      <td>0.638000</td>\n",
       "      <td>1.000000</td>\n",
       "      <td>1.000000</td>\n",
       "      <td>1.000000</td>\n",
       "      <td>1.000000</td>\n",
       "      <td>1.000000</td>\n",
       "      <td>1.000000</td>\n",
       "      <td>1.000000</td>\n",
       "      <td>1.000000</td>\n",
       "      <td>...</td>\n",
       "      <td>1.000000</td>\n",
       "      <td>1.000000</td>\n",
       "      <td>1.000000</td>\n",
       "      <td>1.000000</td>\n",
       "      <td>1.000000</td>\n",
       "      <td>1.000000</td>\n",
       "      <td>1.000000</td>\n",
       "      <td>1.000000</td>\n",
       "      <td>1.000000</td>\n",
       "      <td>0.592000</td>\n",
       "    </tr>\n",
       "  </tbody>\n",
       "</table>\n",
       "<p>8 rows × 257 columns</p>\n",
       "</div>"
      ],
      "text/plain": [
       "               0            1            2            3            4    \\\n",
       "count  7291.000000  7291.000000  7291.000000  7291.000000  7291.000000   \n",
       "mean      3.903443    -0.996417    -0.981138    -0.951153    -0.887738   \n",
       "std       2.996386     0.051713     0.151202     0.244264     0.360516   \n",
       "min       0.000000    -1.000000    -1.000000    -1.000000    -1.000000   \n",
       "25%       1.000000    -1.000000    -1.000000    -1.000000    -1.000000   \n",
       "50%       4.000000    -1.000000    -1.000000    -1.000000    -1.000000   \n",
       "75%       7.000000    -1.000000    -1.000000    -1.000000    -1.000000   \n",
       "max       9.000000     0.638000     1.000000     1.000000     1.000000   \n",
       "\n",
       "               5            6            7            8            9    \\\n",
       "count  7291.000000  7291.000000  7291.000000  7291.000000  7291.000000   \n",
       "mean     -0.773468    -0.610302    -0.368991    -0.045769    -0.052641   \n",
       "std       0.502659     0.628710     0.716032     0.768304     0.752979   \n",
       "min      -1.000000    -1.000000    -1.000000    -1.000000    -1.000000   \n",
       "25%      -1.000000    -1.000000    -1.000000    -0.999000    -0.950000   \n",
       "50%      -1.000000    -1.000000    -0.719000     0.061000     0.002000   \n",
       "75%      -0.962000    -0.391000     0.254500     0.696000     0.674500   \n",
       "max       1.000000     1.000000     1.000000     1.000000     1.000000   \n",
       "\n",
       "          ...               247          248          249          250  \\\n",
       "count     ...       7291.000000  7291.000000  7291.000000  7291.000000   \n",
       "mean      ...         -0.198547     0.139823     0.116439    -0.314108   \n",
       "std       ...          0.772895     0.752984     0.757336     0.725859   \n",
       "min       ...         -1.000000    -1.000000    -1.000000    -1.000000   \n",
       "25%       ...         -1.000000    -0.661500    -0.738000    -1.000000   \n",
       "50%       ...         -0.353000     0.368000     0.336000    -0.579000   \n",
       "75%       ...          0.554000     0.835000     0.815000     0.346000   \n",
       "max       ...          1.000000     1.000000     1.000000     1.000000   \n",
       "\n",
       "               251          252          253          254          255  \\\n",
       "count  7291.000000  7291.000000  7291.000000  7291.000000  7291.000000   \n",
       "mean     -0.653711    -0.837858    -0.922194    -0.957393    -0.979290   \n",
       "std       0.582555     0.414646     0.300830     0.228700     0.158998   \n",
       "min      -1.000000    -1.000000    -1.000000    -1.000000    -1.000000   \n",
       "25%      -1.000000    -1.000000    -1.000000    -1.000000    -1.000000   \n",
       "50%      -1.000000    -1.000000    -1.000000    -1.000000    -1.000000   \n",
       "75%      -0.504500    -1.000000    -1.000000    -1.000000    -1.000000   \n",
       "max       1.000000     1.000000     1.000000     1.000000     1.000000   \n",
       "\n",
       "               256  \n",
       "count  7291.000000  \n",
       "mean     -0.994678  \n",
       "std       0.066056  \n",
       "min      -1.000000  \n",
       "25%      -1.000000  \n",
       "50%      -1.000000  \n",
       "75%      -1.000000  \n",
       "max       0.592000  \n",
       "\n",
       "[8 rows x 257 columns]"
      ]
     },
     "execution_count": 7,
     "metadata": {},
     "output_type": "execute_result"
    }
   ],
   "source": [
    "cleaned_train_data.describe()"
   ]
  },
  {
   "cell_type": "markdown",
   "metadata": {},
   "source": [
    "Aus der Beschreibung der Daten wissen wir, dass es sich um die Ziffern und die dazugehörigen Bilder der Größe 16x16 Pixel handelt. Also in jeder Zeile steht in der 0-ten Spalte die Ziffer und in den folgenden 256 Spalten die einzelnen Pixel der Bilder. Also visualisieren wir diese nun einmal."
   ]
  },
  {
   "cell_type": "code",
   "execution_count": 8,
   "metadata": {
    "scrolled": false
   },
   "outputs": [
    {
     "data": {
      "image/png": "[encoded data removed]",
      "text/plain": [
       "<Figure size 1440x720 with 10 Axes>"
      ]
     },
     "metadata": {},
     "output_type": "display_data"
    }
   ],
   "source": [
    "plt.figure(1, figsize=(20, 10))\n",
    "for i in range(0,10):\n",
    "    image = getNumberImage(cleaned_train_data,i,'mean')\n",
    "\n",
    "    # Call signature: subplot(nrows, ncols, index, **kwargs)\n",
    "    plt.subplot(2,5, 1 + i)\n",
    "    plt.imshow(image, cmap='hot', interpolation='none')\n",
    "\n",
    "plt.show()"
   ]
  },
  {
   "cell_type": "markdown",
   "metadata": {},
   "source": [
    "---"
   ]
  },
  {
   "cell_type": "code",
   "execution_count": 9,
   "metadata": {},
   "outputs": [],
   "source": [
    "data_test = pd.read_csv(\"../data/zip.test\", header=None, sep=\" \") "
   ]
  },
  {
   "cell_type": "code",
   "execution_count": 10,
   "metadata": {},
   "outputs": [
    {
     "data": {
      "text/plain": [
       "(2007, 257)"
      ]
     },
     "execution_count": 10,
     "metadata": {},
     "output_type": "execute_result"
    }
   ],
   "source": [
    "cleaned_test_data = data_test.dropna(axis=1, thresh=2) # lass alle Spalten mit mehr als 2 NaN (Not a Number) vom datensatz fallen \n",
    "cleaned_test_data.shape"
   ]
  },
  {
   "cell_type": "code",
   "execution_count": 11,
   "metadata": {},
   "outputs": [
    {
     "data": {
      "text/html": [
       "<div>\n",
       "<style scoped>\n",
       "    .dataframe tbody tr th:only-of-type {\n",
       "        vertical-align: middle;\n",
       "    }\n",
       "\n",
       "    .dataframe tbody tr th {\n",
       "        vertical-align: top;\n",
       "    }\n",
       "\n",
       "    .dataframe thead th {\n",
       "        text-align: right;\n",
       "    }\n",
       "</style>\n",
       "<table border=\"1\" class=\"dataframe\">\n",
       "  <thead>\n",
       "    <tr style=\"text-align: right;\">\n",
       "      <th></th>\n",
       "      <th>0</th>\n",
       "      <th>1</th>\n",
       "      <th>2</th>\n",
       "      <th>3</th>\n",
       "      <th>4</th>\n",
       "      <th>5</th>\n",
       "      <th>6</th>\n",
       "      <th>7</th>\n",
       "      <th>8</th>\n",
       "      <th>9</th>\n",
       "      <th>...</th>\n",
       "      <th>247</th>\n",
       "      <th>248</th>\n",
       "      <th>249</th>\n",
       "      <th>250</th>\n",
       "      <th>251</th>\n",
       "      <th>252</th>\n",
       "      <th>253</th>\n",
       "      <th>254</th>\n",
       "      <th>255</th>\n",
       "      <th>256</th>\n",
       "    </tr>\n",
       "  </thead>\n",
       "  <tbody>\n",
       "    <tr>\n",
       "      <th>count</th>\n",
       "      <td>2007.000000</td>\n",
       "      <td>2007.000000</td>\n",
       "      <td>2007.000000</td>\n",
       "      <td>2007.000000</td>\n",
       "      <td>2007.000000</td>\n",
       "      <td>2007.000000</td>\n",
       "      <td>2007.000000</td>\n",
       "      <td>2007.000000</td>\n",
       "      <td>2007.000000</td>\n",
       "      <td>2007.000000</td>\n",
       "      <td>...</td>\n",
       "      <td>2007.000000</td>\n",
       "      <td>2007.000000</td>\n",
       "      <td>2007.000000</td>\n",
       "      <td>2007.000000</td>\n",
       "      <td>2007.000000</td>\n",
       "      <td>2007.000000</td>\n",
       "      <td>2007.000000</td>\n",
       "      <td>2007.000000</td>\n",
       "      <td>2007.000000</td>\n",
       "      <td>2007.000000</td>\n",
       "    </tr>\n",
       "    <tr>\n",
       "      <th>mean</th>\n",
       "      <td>3.850523</td>\n",
       "      <td>-0.996595</td>\n",
       "      <td>-0.977925</td>\n",
       "      <td>-0.949133</td>\n",
       "      <td>-0.882643</td>\n",
       "      <td>-0.771821</td>\n",
       "      <td>-0.589944</td>\n",
       "      <td>-0.353905</td>\n",
       "      <td>-0.061801</td>\n",
       "      <td>-0.076219</td>\n",
       "      <td>...</td>\n",
       "      <td>-0.170607</td>\n",
       "      <td>0.133865</td>\n",
       "      <td>0.110366</td>\n",
       "      <td>-0.314661</td>\n",
       "      <td>-0.636191</td>\n",
       "      <td>-0.817464</td>\n",
       "      <td>-0.912635</td>\n",
       "      <td>-0.960662</td>\n",
       "      <td>-0.984057</td>\n",
       "      <td>-0.995801</td>\n",
       "    </tr>\n",
       "    <tr>\n",
       "      <th>std</th>\n",
       "      <td>3.018484</td>\n",
       "      <td>0.042205</td>\n",
       "      <td>0.168974</td>\n",
       "      <td>0.245463</td>\n",
       "      <td>0.368629</td>\n",
       "      <td>0.499981</td>\n",
       "      <td>0.646510</td>\n",
       "      <td>0.730745</td>\n",
       "      <td>0.773948</td>\n",
       "      <td>0.764625</td>\n",
       "      <td>...</td>\n",
       "      <td>0.790514</td>\n",
       "      <td>0.760779</td>\n",
       "      <td>0.756387</td>\n",
       "      <td>0.717573</td>\n",
       "      <td>0.592921</td>\n",
       "      <td>0.451498</td>\n",
       "      <td>0.316113</td>\n",
       "      <td>0.220893</td>\n",
       "      <td>0.130031</td>\n",
       "      <td>0.055080</td>\n",
       "    </tr>\n",
       "    <tr>\n",
       "      <th>min</th>\n",
       "      <td>0.000000</td>\n",
       "      <td>-1.000000</td>\n",
       "      <td>-1.000000</td>\n",
       "      <td>-1.000000</td>\n",
       "      <td>-1.000000</td>\n",
       "      <td>-1.000000</td>\n",
       "      <td>-1.000000</td>\n",
       "      <td>-1.000000</td>\n",
       "      <td>-1.000000</td>\n",
       "      <td>-1.000000</td>\n",
       "      <td>...</td>\n",
       "      <td>-1.000000</td>\n",
       "      <td>-1.000000</td>\n",
       "      <td>-1.000000</td>\n",
       "      <td>-1.000000</td>\n",
       "      <td>-1.000000</td>\n",
       "      <td>-1.000000</td>\n",
       "      <td>-1.000000</td>\n",
       "      <td>-1.000000</td>\n",
       "      <td>-1.000000</td>\n",
       "      <td>-1.000000</td>\n",
       "    </tr>\n",
       "    <tr>\n",
       "      <th>25%</th>\n",
       "      <td>1.000000</td>\n",
       "      <td>-1.000000</td>\n",
       "      <td>-1.000000</td>\n",
       "      <td>-1.000000</td>\n",
       "      <td>-1.000000</td>\n",
       "      <td>-1.000000</td>\n",
       "      <td>-1.000000</td>\n",
       "      <td>-1.000000</td>\n",
       "      <td>-1.000000</td>\n",
       "      <td>-0.997000</td>\n",
       "      <td>...</td>\n",
       "      <td>-1.000000</td>\n",
       "      <td>-0.684500</td>\n",
       "      <td>-0.746000</td>\n",
       "      <td>-1.000000</td>\n",
       "      <td>-1.000000</td>\n",
       "      <td>-1.000000</td>\n",
       "      <td>-1.000000</td>\n",
       "      <td>-1.000000</td>\n",
       "      <td>-1.000000</td>\n",
       "      <td>-1.000000</td>\n",
       "    </tr>\n",
       "    <tr>\n",
       "      <th>50%</th>\n",
       "      <td>4.000000</td>\n",
       "      <td>-1.000000</td>\n",
       "      <td>-1.000000</td>\n",
       "      <td>-1.000000</td>\n",
       "      <td>-1.000000</td>\n",
       "      <td>-1.000000</td>\n",
       "      <td>-1.000000</td>\n",
       "      <td>-0.714000</td>\n",
       "      <td>0.035000</td>\n",
       "      <td>-0.043000</td>\n",
       "      <td>...</td>\n",
       "      <td>-0.337000</td>\n",
       "      <td>0.333000</td>\n",
       "      <td>0.333000</td>\n",
       "      <td>-0.577000</td>\n",
       "      <td>-1.000000</td>\n",
       "      <td>-1.000000</td>\n",
       "      <td>-1.000000</td>\n",
       "      <td>-1.000000</td>\n",
       "      <td>-1.000000</td>\n",
       "      <td>-1.000000</td>\n",
       "    </tr>\n",
       "    <tr>\n",
       "      <th>75%</th>\n",
       "      <td>6.000000</td>\n",
       "      <td>-1.000000</td>\n",
       "      <td>-1.000000</td>\n",
       "      <td>-1.000000</td>\n",
       "      <td>-1.000000</td>\n",
       "      <td>-0.941500</td>\n",
       "      <td>-0.306000</td>\n",
       "      <td>0.308000</td>\n",
       "      <td>0.704500</td>\n",
       "      <td>0.670000</td>\n",
       "      <td>...</td>\n",
       "      <td>0.641500</td>\n",
       "      <td>0.853000</td>\n",
       "      <td>0.805000</td>\n",
       "      <td>0.335000</td>\n",
       "      <td>-0.435500</td>\n",
       "      <td>-0.999000</td>\n",
       "      <td>-1.000000</td>\n",
       "      <td>-1.000000</td>\n",
       "      <td>-1.000000</td>\n",
       "      <td>-1.000000</td>\n",
       "    </tr>\n",
       "    <tr>\n",
       "      <th>max</th>\n",
       "      <td>9.000000</td>\n",
       "      <td>-0.130000</td>\n",
       "      <td>1.000000</td>\n",
       "      <td>1.000000</td>\n",
       "      <td>1.000000</td>\n",
       "      <td>1.000000</td>\n",
       "      <td>1.000000</td>\n",
       "      <td>1.000000</td>\n",
       "      <td>1.000000</td>\n",
       "      <td>1.000000</td>\n",
       "      <td>...</td>\n",
       "      <td>1.000000</td>\n",
       "      <td>1.000000</td>\n",
       "      <td>1.000000</td>\n",
       "      <td>1.000000</td>\n",
       "      <td>1.000000</td>\n",
       "      <td>1.000000</td>\n",
       "      <td>1.000000</td>\n",
       "      <td>1.000000</td>\n",
       "      <td>0.992000</td>\n",
       "      <td>0.563000</td>\n",
       "    </tr>\n",
       "  </tbody>\n",
       "</table>\n",
       "<p>8 rows × 257 columns</p>\n",
       "</div>"
      ],
      "text/plain": [
       "               0            1            2            3            4    \\\n",
       "count  2007.000000  2007.000000  2007.000000  2007.000000  2007.000000   \n",
       "mean      3.850523    -0.996595    -0.977925    -0.949133    -0.882643   \n",
       "std       3.018484     0.042205     0.168974     0.245463     0.368629   \n",
       "min       0.000000    -1.000000    -1.000000    -1.000000    -1.000000   \n",
       "25%       1.000000    -1.000000    -1.000000    -1.000000    -1.000000   \n",
       "50%       4.000000    -1.000000    -1.000000    -1.000000    -1.000000   \n",
       "75%       6.000000    -1.000000    -1.000000    -1.000000    -1.000000   \n",
       "max       9.000000    -0.130000     1.000000     1.000000     1.000000   \n",
       "\n",
       "               5            6            7            8            9    \\\n",
       "count  2007.000000  2007.000000  2007.000000  2007.000000  2007.000000   \n",
       "mean     -0.771821    -0.589944    -0.353905    -0.061801    -0.076219   \n",
       "std       0.499981     0.646510     0.730745     0.773948     0.764625   \n",
       "min      -1.000000    -1.000000    -1.000000    -1.000000    -1.000000   \n",
       "25%      -1.000000    -1.000000    -1.000000    -1.000000    -0.997000   \n",
       "50%      -1.000000    -1.000000    -0.714000     0.035000    -0.043000   \n",
       "75%      -0.941500    -0.306000     0.308000     0.704500     0.670000   \n",
       "max       1.000000     1.000000     1.000000     1.000000     1.000000   \n",
       "\n",
       "          ...               247          248          249          250  \\\n",
       "count     ...       2007.000000  2007.000000  2007.000000  2007.000000   \n",
       "mean      ...         -0.170607     0.133865     0.110366    -0.314661   \n",
       "std       ...          0.790514     0.760779     0.756387     0.717573   \n",
       "min       ...         -1.000000    -1.000000    -1.000000    -1.000000   \n",
       "25%       ...         -1.000000    -0.684500    -0.746000    -1.000000   \n",
       "50%       ...         -0.337000     0.333000     0.333000    -0.577000   \n",
       "75%       ...          0.641500     0.853000     0.805000     0.335000   \n",
       "max       ...          1.000000     1.000000     1.000000     1.000000   \n",
       "\n",
       "               251          252          253          254          255  \\\n",
       "count  2007.000000  2007.000000  2007.000000  2007.000000  2007.000000   \n",
       "mean     -0.636191    -0.817464    -0.912635    -0.960662    -0.984057   \n",
       "std       0.592921     0.451498     0.316113     0.220893     0.130031   \n",
       "min      -1.000000    -1.000000    -1.000000    -1.000000    -1.000000   \n",
       "25%      -1.000000    -1.000000    -1.000000    -1.000000    -1.000000   \n",
       "50%      -1.000000    -1.000000    -1.000000    -1.000000    -1.000000   \n",
       "75%      -0.435500    -0.999000    -1.000000    -1.000000    -1.000000   \n",
       "max       1.000000     1.000000     1.000000     1.000000     0.992000   \n",
       "\n",
       "               256  \n",
       "count  2007.000000  \n",
       "mean     -0.995801  \n",
       "std       0.055080  \n",
       "min      -1.000000  \n",
       "25%      -1.000000  \n",
       "50%      -1.000000  \n",
       "75%      -1.000000  \n",
       "max       0.563000  \n",
       "\n",
       "[8 rows x 257 columns]"
      ]
     },
     "execution_count": 11,
     "metadata": {},
     "output_type": "execute_result"
    }
   ],
   "source": [
    "cleaned_test_data.describe()"
   ]
  },
  {
   "cell_type": "code",
   "execution_count": 12,
   "metadata": {},
   "outputs": [
    {
     "data": {
      "image/png": "[encoded data removed]",
      "text/plain": [
       "<Figure size 1440x720 with 10 Axes>"
      ]
     },
     "metadata": {},
     "output_type": "display_data"
    }
   ],
   "source": [
    "plt.figure(1, figsize=(20, 10))\n",
    "for i in range(0,10):\n",
    "    image = getNumberImage(cleaned_test_data,i,'mean')\n",
    "\n",
    "    # Call signature: subplot(nrows, ncols, index, **kwargs)\n",
    "    plt.subplot(2,5, 1 + i)\n",
    "    plt.imshow(image, cmap='hot', interpolation='none')\n",
    "\n",
    "plt.show()"
   ]
  },
  {
   "cell_type": "markdown",
   "metadata": {},
   "source": [
    "---"
   ]
  },
  {
   "cell_type": "markdown",
   "metadata": {},
   "source": [
    "## Split data in train und test"
   ]
  },
  {
   "cell_type": "code",
   "execution_count": 13,
   "metadata": {},
   "outputs": [
    {
     "data": {
      "text/plain": [
       "(7291, 256)"
      ]
     },
     "execution_count": 13,
     "metadata": {},
     "output_type": "execute_result"
    }
   ],
   "source": [
    "# train data\n",
    "input_data = cleaned_train_data.iloc[:,1:].values\n",
    "input_data.shape"
   ]
  },
  {
   "cell_type": "code",
   "execution_count": 14,
   "metadata": {},
   "outputs": [
    {
     "data": {
      "text/plain": [
       "(2007, 256)"
      ]
     },
     "execution_count": 14,
     "metadata": {},
     "output_type": "execute_result"
    }
   ],
   "source": [
    "# test data\n",
    "test_data = cleaned_test_data.iloc[:,1:].values\n",
    "test_data.shape"
   ]
  },
  {
   "cell_type": "code",
   "execution_count": 15,
   "metadata": {},
   "outputs": [],
   "source": [
    "# Set targets\n",
    "exp = Experiment(cleaned_train_data[0].values, cleaned_test_data[0].values)"
   ]
  },
  {
   "cell_type": "markdown",
   "metadata": {},
   "source": [
    "### Build features"
   ]
  },
  {
   "cell_type": "code",
   "execution_count": 16,
   "metadata": {},
   "outputs": [],
   "source": [
    "def multires(data):\n",
    "    num_samples = data.shape[0]\n",
    "    reshaped_input = data.reshape(num_samples,16,16)\n",
    "    new_feature_collection = data.mean(1).reshape((-1,1))\n",
    "    \n",
    "    for res in [2,4,8]:\n",
    "        pixel = res\n",
    "        pixel_size = int(16 / pixel)\n",
    "        new_features = np.zeros((num_samples, pixel * pixel))\n",
    "        for k in range(reshaped_input.shape[0]):\n",
    "            for i in range(0,pixel):\n",
    "                for j in range(0,pixel):\n",
    "                    new_features[k,i*pixel + j] = reshaped_input[k,(i*pixel_size):(i+1) * pixel_size,(j*pixel_size):(j+1) * pixel_size].mean()\n",
    "        new_feature_collection  = np.append(new_feature_collection, new_features, axis=1)\n",
    "    \n",
    "    return new_feature_collection"
   ]
  },
  {
   "cell_type": "code",
   "execution_count": 17,
   "metadata": {},
   "outputs": [],
   "source": [
    "# input featurs are the individual pixels of the image - without transformation\n",
    "exp.add_input_data('256_pixel', input_data)"
   ]
  },
  {
   "cell_type": "code",
   "execution_count": 18,
   "metadata": {},
   "outputs": [],
   "source": [
    "# input featurs are lower resolution variants of the images\n",
    "new_feature_collection = multires(input_data)\n",
    "exp.add_input_data('res_vari', new_feature_collection)"
   ]
  },
  {
   "cell_type": "code",
   "execution_count": 19,
   "metadata": {},
   "outputs": [],
   "source": [
    "exp.add_input_data('256_and_res_vari', np.append(input_data, new_feature_collection, axis=1))"
   ]
  },
  {
   "cell_type": "markdown",
   "metadata": {},
   "source": [
    "-----"
   ]
  },
  {
   "cell_type": "markdown",
   "metadata": {},
   "source": [
    "## Classification with logistic regression"
   ]
  },
  {
   "cell_type": "code",
   "execution_count": 20,
   "metadata": {},
   "outputs": [],
   "source": [
    "exp.add_config(LogisticRegression(n_jobs=1, C=10000.0), 'LogReg_1', '256_pixel')\n",
    "exp.add_config(LogisticRegression(n_jobs=1, C=10000.0), 'LogReg_1_res', 'res_vari')\n",
    "exp.add_config(LogisticRegression(n_jobs=1, C=10000.0), 'LogReg_1_all', '256_and_res_vari')\n",
    "\n",
    "exp.add_config(LogisticRegression(n_jobs=1, penalty='l1'), 'LogReg_1_l1', '256_pixel')\n",
    "exp.add_config(LogisticRegression(n_jobs=1, penalty='l1'), 'LogReg_1_res_l1', 'res_vari')\n",
    "exp.add_config(LogisticRegression(n_jobs=1, penalty='l1'), 'LogReg_1_all_l1', '256_and_res_vari')\n",
    "\n",
    "exp.add_config(LogisticRegression(n_jobs=1, penalty='l2'), 'LogReg_1_l2', '256_pixel')\n",
    "exp.add_config(LogisticRegression(n_jobs=1, penalty='l2'), 'LogReg_1_res_l2', 'res_vari')\n",
    "exp.add_config(LogisticRegression(n_jobs=1, penalty='l2'), 'LogReg_1_all_l2', '256_and_res_vari')\n",
    "\n",
    "exp.add_config(SGDClassifier(n_jobs=1, penalty='l2'), 'SGDLogReg_1_l2', '256_pixel')\n",
    "exp.add_config(SGDClassifier(n_jobs=1, penalty='l2'), 'SGDLogReg_1_res_l2', 'res_vari')\n",
    "exp.add_config(SGDClassifier(n_jobs=1, penalty='l2'), 'SGDLogReg_1_all_l2', '256_and_res_vari')"
   ]
  },
  {
   "cell_type": "markdown",
   "metadata": {},
   "source": [
    "## Training"
   ]
  },
  {
   "cell_type": "code",
   "execution_count": 21,
   "metadata": {},
   "outputs": [
    {
     "name": "stdout",
     "output_type": "stream",
     "text": [
      "['LogReg_1', 'LogReg_1_res', 'LogReg_1_all', 'LogReg_1_l1', 'LogReg_1_res_l1', 'LogReg_1_all_l1', 'LogReg_1_l2', 'LogReg_1_res_l2', 'LogReg_1_all_l2', 'SGDLogReg_1_l2', 'SGDLogReg_1_res_l2', 'SGDLogReg_1_all_l2']\n",
      "CONFIG: LogReg_1 256_pixel \tNum features: 256\n",
      "CONFIG: LogReg_1_res res_vari \tNum features: 85\n",
      "CONFIG: LogReg_1_all 256_and_res_vari \tNum features: 341\n",
      "CONFIG: LogReg_1_l1 256_pixel \tNum features: 256\n",
      "CONFIG: LogReg_1_res_l1 res_vari \tNum features: 85\n",
      "CONFIG: LogReg_1_all_l1 256_and_res_vari \tNum features: 341\n",
      "CONFIG: LogReg_1_l2 256_pixel \tNum features: 256\n",
      "CONFIG: LogReg_1_res_l2 res_vari \tNum features: 85\n",
      "CONFIG: LogReg_1_all_l2 256_and_res_vari \tNum features: 341\n",
      "CONFIG: SGDLogReg_1_l2 256_pixel \tNum features: 256\n",
      "CONFIG: SGDLogReg_1_res_l2 res_vari \tNum features: 85\n",
      "CONFIG: SGDLogReg_1_all_l2 256_and_res_vari \tNum features: 341\n",
      "None\n"
     ]
    }
   ],
   "source": [
    "print(exp.get_names())\n",
    "print(exp.get_config_map())"
   ]
  },
  {
   "cell_type": "code",
   "execution_count": 22,
   "metadata": {},
   "outputs": [
    {
     "name": "stdout",
     "output_type": "stream",
     "text": [
      "Fitting  LogReg_1 ... \n",
      "done in  83.1544840335846 s.\n",
      "Fitting  LogReg_1_res ... \n",
      "done in  7.032793045043945 s.\n",
      "Fitting  LogReg_1_all ... \n",
      "done in  121.78565311431885 s.\n",
      "Fitting  LogReg_1_l1 ... \n",
      "done in  16.964927196502686 s.\n",
      "Fitting  LogReg_1_res_l1 ... \n",
      "done in  8.997125148773193 s.\n",
      "Fitting  LogReg_1_all_l1 ... \n",
      "done in  16.290098190307617 s.\n",
      "Fitting  LogReg_1_l2 ... \n",
      "done in  6.8100409507751465 s.\n",
      "Fitting  LogReg_1_res_l2 ... \n",
      "done in  2.020390748977661 s.\n",
      "Fitting  LogReg_1_all_l2 ... \n",
      "done in  8.851219892501831 s.\n",
      "Fitting  SGDLogReg_1_l2 ... \n",
      "done in  0.15837788581848145 s.\n",
      "Fitting  SGDLogReg_1_res_l2 ... \n"
     ]
    },
    {
     "name": "stderr",
     "output_type": "stream",
     "text": [
      "/Users/maddosz/anaconda2/envs/python3/lib/python3.6/site-packages/sklearn/linear_model/stochastic_gradient.py:128: FutureWarning: max_iter and tol parameters have been added in <class 'sklearn.linear_model.stochastic_gradient.SGDClassifier'> in 0.19. If both are left unset, they default to max_iter=5 and tol=None. If tol is not None, max_iter defaults to max_iter=1000. From 0.21, default max_iter will be 1000, and default tol will be 1e-3.\n",
      "  \"and default tol will be 1e-3.\" % type(self), FutureWarning)\n"
     ]
    },
    {
     "name": "stdout",
     "output_type": "stream",
     "text": [
      "done in  0.06827902793884277 s.\n",
      "Fitting  SGDLogReg_1_all_l2 ... \n",
      "done in  0.17962193489074707 s.\n"
     ]
    }
   ],
   "source": [
    "exp.fit()"
   ]
  },
  {
   "cell_type": "markdown",
   "metadata": {},
   "source": [
    "## Vorhersage und Fehler der Verfahren auf dem Test set"
   ]
  },
  {
   "cell_type": "code",
   "execution_count": 23,
   "metadata": {},
   "outputs": [],
   "source": [
    "test_data_res = multires(test_data)\n",
    "test_data_all = np.append(test_data, test_data_res, axis=1)"
   ]
  },
  {
   "cell_type": "code",
   "execution_count": 24,
   "metadata": {},
   "outputs": [
    {
     "name": "stdout",
     "output_type": "stream",
     "text": [
      "Predicting data with LogReg_1 ... \n",
      "done in  0.00646209716796875 s.\n",
      "Predicting data with LogReg_1_res ... \n",
      "done in  0.0013630390167236328 s.\n",
      "Predicting data with LogReg_1_all ... \n",
      "done in  0.0022246837615966797 s.\n"
     ]
    }
   ],
   "source": [
    "exp.predict('LogReg_1',test_data)\n",
    "exp.predict('LogReg_1_res',test_data_res)\n",
    "exp.predict('LogReg_1_all',test_data_all)"
   ]
  },
  {
   "cell_type": "code",
   "execution_count": 25,
   "metadata": {},
   "outputs": [
    {
     "name": "stdout",
     "output_type": "stream",
     "text": [
      "Predicting data with LogReg_1_l1 ... \n",
      "done in  0.0031991004943847656 s.\n",
      "Predicting data with LogReg_1_res_l1 ... \n",
      "done in  0.0018320083618164062 s.\n",
      "Predicting data with LogReg_1_all_l1 ... \n",
      "done in  0.003351926803588867 s.\n"
     ]
    }
   ],
   "source": [
    "exp.predict('LogReg_1_l1',test_data)\n",
    "exp.predict('LogReg_1_res_l1',test_data_res)\n",
    "exp.predict('LogReg_1_all_l1',test_data_all)\n",
    "\n"
   ]
  },
  {
   "cell_type": "code",
   "execution_count": 26,
   "metadata": {},
   "outputs": [
    {
     "name": "stdout",
     "output_type": "stream",
     "text": [
      "Predicting data with LogReg_1_l2 ... \n",
      "done in  0.0031447410583496094 s.\n",
      "Predicting data with LogReg_1_res_l2 ... \n",
      "done in  0.0017931461334228516 s.\n",
      "Predicting data with LogReg_1_all_l2 ... \n",
      "done in  0.0025310516357421875 s.\n"
     ]
    }
   ],
   "source": [
    "\n",
    "exp.predict('LogReg_1_l2',test_data)\n",
    "exp.predict('LogReg_1_res_l2',test_data_res)\n",
    "exp.predict('LogReg_1_all_l2',test_data_all)"
   ]
  },
  {
   "cell_type": "code",
   "execution_count": 27,
   "metadata": {},
   "outputs": [
    {
     "name": "stdout",
     "output_type": "stream",
     "text": [
      "Predicting data with SGDLogReg_1_l2 ... \n",
      "done in  0.0030319690704345703 s.\n",
      "Predicting data with SGDLogReg_1_res_l2 ... \n",
      "done in  0.0014061927795410156 s.\n",
      "Predicting data with SGDLogReg_1_all_l2 ... \n",
      "done in  0.0022878646850585938 s.\n"
     ]
    }
   ],
   "source": [
    "exp.predict('SGDLogReg_1_l2',test_data)\n",
    "exp.predict('SGDLogReg_1_res_l2',test_data_res)\n",
    "exp.predict('SGDLogReg_1_all_l2',test_data_all)"
   ]
  },
  {
   "cell_type": "code",
   "execution_count": 28,
   "metadata": {},
   "outputs": [
    {
     "data": {
      "text/html": [
       "<div>\n",
       "<style scoped>\n",
       "    .dataframe tbody tr th:only-of-type {\n",
       "        vertical-align: middle;\n",
       "    }\n",
       "\n",
       "    .dataframe tbody tr th {\n",
       "        vertical-align: top;\n",
       "    }\n",
       "\n",
       "    .dataframe thead th {\n",
       "        text-align: right;\n",
       "    }\n",
       "</style>\n",
       "<table border=\"1\" class=\"dataframe\">\n",
       "  <thead>\n",
       "    <tr style=\"text-align: right;\">\n",
       "      <th></th>\n",
       "      <th>targets</th>\n",
       "    </tr>\n",
       "  </thead>\n",
       "  <tbody>\n",
       "    <tr>\n",
       "      <th>0</th>\n",
       "      <td>6.0</td>\n",
       "    </tr>\n",
       "    <tr>\n",
       "      <th>1</th>\n",
       "      <td>5.0</td>\n",
       "    </tr>\n",
       "    <tr>\n",
       "      <th>2</th>\n",
       "      <td>4.0</td>\n",
       "    </tr>\n",
       "    <tr>\n",
       "      <th>3</th>\n",
       "      <td>7.0</td>\n",
       "    </tr>\n",
       "    <tr>\n",
       "      <th>4</th>\n",
       "      <td>3.0</td>\n",
       "    </tr>\n",
       "  </tbody>\n",
       "</table>\n",
       "</div>"
      ],
      "text/plain": [
       "   targets\n",
       "0      6.0\n",
       "1      5.0\n",
       "2      4.0\n",
       "3      7.0\n",
       "4      3.0"
      ]
     },
     "execution_count": 28,
     "metadata": {},
     "output_type": "execute_result"
    }
   ],
   "source": [
    "results_train, results_test = exp.get_results()\n",
    "results_train.head()"
   ]
  },
  {
   "cell_type": "code",
   "execution_count": 29,
   "metadata": {},
   "outputs": [
    {
     "data": {
      "text/html": [
       "<div>\n",
       "<style scoped>\n",
       "    .dataframe tbody tr th:only-of-type {\n",
       "        vertical-align: middle;\n",
       "    }\n",
       "\n",
       "    .dataframe tbody tr th {\n",
       "        vertical-align: top;\n",
       "    }\n",
       "\n",
       "    .dataframe thead th {\n",
       "        text-align: right;\n",
       "    }\n",
       "</style>\n",
       "<table border=\"1\" class=\"dataframe\">\n",
       "  <thead>\n",
       "    <tr style=\"text-align: right;\">\n",
       "      <th></th>\n",
       "      <th>targets</th>\n",
       "      <th>LogReg_1</th>\n",
       "      <th>LogReg_1_res</th>\n",
       "      <th>LogReg_1_all</th>\n",
       "      <th>LogReg_1_l1</th>\n",
       "      <th>LogReg_1_res_l1</th>\n",
       "      <th>LogReg_1_all_l1</th>\n",
       "      <th>LogReg_1_l2</th>\n",
       "      <th>LogReg_1_res_l2</th>\n",
       "      <th>LogReg_1_all_l2</th>\n",
       "      <th>SGDLogReg_1_l2</th>\n",
       "      <th>SGDLogReg_1_res_l2</th>\n",
       "      <th>SGDLogReg_1_all_l2</th>\n",
       "    </tr>\n",
       "  </thead>\n",
       "  <tbody>\n",
       "    <tr>\n",
       "      <th>0</th>\n",
       "      <td>9</td>\n",
       "      <td>9.0</td>\n",
       "      <td>9.0</td>\n",
       "      <td>9.0</td>\n",
       "      <td>9.0</td>\n",
       "      <td>9.0</td>\n",
       "      <td>9.0</td>\n",
       "      <td>9.0</td>\n",
       "      <td>9.0</td>\n",
       "      <td>9.0</td>\n",
       "      <td>9.0</td>\n",
       "      <td>9.0</td>\n",
       "      <td>9.0</td>\n",
       "    </tr>\n",
       "    <tr>\n",
       "      <th>1</th>\n",
       "      <td>6</td>\n",
       "      <td>6.0</td>\n",
       "      <td>6.0</td>\n",
       "      <td>6.0</td>\n",
       "      <td>6.0</td>\n",
       "      <td>6.0</td>\n",
       "      <td>6.0</td>\n",
       "      <td>6.0</td>\n",
       "      <td>6.0</td>\n",
       "      <td>6.0</td>\n",
       "      <td>6.0</td>\n",
       "      <td>6.0</td>\n",
       "      <td>6.0</td>\n",
       "    </tr>\n",
       "    <tr>\n",
       "      <th>2</th>\n",
       "      <td>3</td>\n",
       "      <td>3.0</td>\n",
       "      <td>3.0</td>\n",
       "      <td>3.0</td>\n",
       "      <td>3.0</td>\n",
       "      <td>3.0</td>\n",
       "      <td>3.0</td>\n",
       "      <td>3.0</td>\n",
       "      <td>3.0</td>\n",
       "      <td>3.0</td>\n",
       "      <td>3.0</td>\n",
       "      <td>3.0</td>\n",
       "      <td>3.0</td>\n",
       "    </tr>\n",
       "    <tr>\n",
       "      <th>3</th>\n",
       "      <td>6</td>\n",
       "      <td>6.0</td>\n",
       "      <td>6.0</td>\n",
       "      <td>6.0</td>\n",
       "      <td>6.0</td>\n",
       "      <td>6.0</td>\n",
       "      <td>6.0</td>\n",
       "      <td>6.0</td>\n",
       "      <td>6.0</td>\n",
       "      <td>6.0</td>\n",
       "      <td>6.0</td>\n",
       "      <td>6.0</td>\n",
       "      <td>6.0</td>\n",
       "    </tr>\n",
       "    <tr>\n",
       "      <th>4</th>\n",
       "      <td>6</td>\n",
       "      <td>6.0</td>\n",
       "      <td>6.0</td>\n",
       "      <td>6.0</td>\n",
       "      <td>6.0</td>\n",
       "      <td>6.0</td>\n",
       "      <td>6.0</td>\n",
       "      <td>6.0</td>\n",
       "      <td>6.0</td>\n",
       "      <td>6.0</td>\n",
       "      <td>6.0</td>\n",
       "      <td>6.0</td>\n",
       "      <td>6.0</td>\n",
       "    </tr>\n",
       "  </tbody>\n",
       "</table>\n",
       "</div>"
      ],
      "text/plain": [
       "   targets  LogReg_1  LogReg_1_res  LogReg_1_all  LogReg_1_l1  \\\n",
       "0        9       9.0           9.0           9.0          9.0   \n",
       "1        6       6.0           6.0           6.0          6.0   \n",
       "2        3       3.0           3.0           3.0          3.0   \n",
       "3        6       6.0           6.0           6.0          6.0   \n",
       "4        6       6.0           6.0           6.0          6.0   \n",
       "\n",
       "   LogReg_1_res_l1  LogReg_1_all_l1  LogReg_1_l2  LogReg_1_res_l2  \\\n",
       "0              9.0              9.0          9.0              9.0   \n",
       "1              6.0              6.0          6.0              6.0   \n",
       "2              3.0              3.0          3.0              3.0   \n",
       "3              6.0              6.0          6.0              6.0   \n",
       "4              6.0              6.0          6.0              6.0   \n",
       "\n",
       "   LogReg_1_all_l2  SGDLogReg_1_l2  SGDLogReg_1_res_l2  SGDLogReg_1_all_l2  \n",
       "0              9.0             9.0                 9.0                 9.0  \n",
       "1              6.0             6.0                 6.0                 6.0  \n",
       "2              3.0             3.0                 3.0                 3.0  \n",
       "3              6.0             6.0                 6.0                 6.0  \n",
       "4              6.0             6.0                 6.0                 6.0  "
      ]
     },
     "execution_count": 29,
     "metadata": {},
     "output_type": "execute_result"
    }
   ],
   "source": [
    "results_test.head()"
   ]
  },
  {
   "cell_type": "code",
   "execution_count": 30,
   "metadata": {},
   "outputs": [
    {
     "name": "stdout",
     "output_type": "stream",
     "text": [
      "LogReg_1: 0.8898854010961634\n",
      "LogReg_res: 0.9142999501743896\n",
      "LogReg_all: 0.8913801694070752\n"
     ]
    }
   ],
   "source": [
    "print(\"LogReg_1:\",1.0*(results_test['targets'] == results_test['LogReg_1']).sum()/results_test['targets'].count())\n",
    "print(\"LogReg_res:\",1.0*(results_test['targets'] == results_test['LogReg_1_res']).sum()/results_test['targets'].count())\n",
    "print(\"LogReg_all:\",1.0*(results_test['targets'] == results_test['LogReg_1_all']).sum()/results_test['targets'].count())"
   ]
  },
  {
   "cell_type": "code",
   "execution_count": 31,
   "metadata": {},
   "outputs": [
    {
     "name": "stdout",
     "output_type": "stream",
     "text": [
      "LogReg_1: 0.9138016940707524\n",
      "LogReg_res: 0.9157947184853015\n",
      "LogReg_all: 0.9138016940707524\n"
     ]
    }
   ],
   "source": [
    "print(\"LogReg_1:\",1.0*(results_test['targets'] == results_test['LogReg_1_l1']).sum()/results_test['targets'].count())\n",
    "print(\"LogReg_res:\",1.0*(results_test['targets'] == results_test['LogReg_1_res_l1']).sum()/results_test['targets'].count())\n",
    "print(\"LogReg_all:\",1.0*(results_test['targets'] == results_test['LogReg_1_all_l1']).sum()/results_test['targets'].count())"
   ]
  },
  {
   "cell_type": "code",
   "execution_count": 32,
   "metadata": {},
   "outputs": [
    {
     "name": "stdout",
     "output_type": "stream",
     "text": [
      "LogReg_1: 0.911310413552566\n",
      "LogReg_res: 0.9172894867962132\n",
      "LogReg_all: 0.9118086696562033\n"
     ]
    }
   ],
   "source": [
    "print(\"LogReg_1:\",1.0*(results_test['targets'] == results_test['LogReg_1_l2']).sum()/results_test['targets'].count())\n",
    "print(\"LogReg_res:\",1.0*(results_test['targets'] == results_test['LogReg_1_res_l2']).sum()/results_test['targets'].count())\n",
    "print(\"LogReg_all:\",1.0*(results_test['targets'] == results_test['LogReg_1_all_l2']).sum()/results_test['targets'].count())"
   ]
  },
  {
   "cell_type": "code",
   "execution_count": 33,
   "metadata": {},
   "outputs": [
    {
     "name": "stdout",
     "output_type": "stream",
     "text": [
      "SGDLogReg_1: 0.8973592426507224\n",
      "SGDLogReg_res: 0.8963627304434479\n",
      "SGDLogReg_all: 0.8784255107125062\n"
     ]
    }
   ],
   "source": [
    "print(\"SGDLogReg_1:\",1.0*(results_test['targets']   == results_test['SGDLogReg_1_l2']).sum()/results_test['targets'].count())\n",
    "print(\"SGDLogReg_res:\",1.0*(results_test['targets'] == results_test['SGDLogReg_1_res_l2']).sum()/results_test['targets'].count())\n",
    "print(\"SGDLogReg_all:\",1.0*(results_test['targets'] == results_test['SGDLogReg_1_all_l2']).sum()/results_test['targets'].count())"
   ]
  },
  {
   "cell_type": "markdown",
   "metadata": {},
   "source": [
    "## ROC und AUC"
   ]
  },
  {
   "cell_type": "code",
   "execution_count": 34,
   "metadata": {},
   "outputs": [
    {
     "name": "stdout",
     "output_type": "stream",
     "text": [
      "Predicting data with LogReg_1_res ... \n",
      "done in  0.004936933517456055 s.\n"
     ]
    }
   ],
   "source": [
    "proba_test = exp.predict_proba('LogReg_1_res', test_data_res)"
   ]
  },
  {
   "cell_type": "code",
   "execution_count": 35,
   "metadata": {},
   "outputs": [],
   "source": [
    "import sklearn.metrics as metrics"
   ]
  },
  {
   "cell_type": "code",
   "execution_count": 36,
   "metadata": {},
   "outputs": [
    {
     "data": {
      "image/png": "[encoded data removed]",
      "text/plain": [
       "<Figure size 1440x2160 with 10 Axes>"
      ]
     },
     "metadata": {},
     "output_type": "display_data"
    }
   ],
   "source": [
    "plt.figure(1, figsize=(20,30))\n",
    "plt.plot([0, 1], [0, 1], 'k--')\n",
    "plt.xlabel('False positive rate')\n",
    "plt.ylabel('True positive rate')\n",
    "plt.title('ROC curve')\n",
    "\n",
    "for i in range(0,10):\n",
    "    fpr, tpr, thresholds = metrics.roc_curve(results_test['targets'], proba_test[:,i], pos_label=i)\n",
    "    auc = metrics.auc(fpr, tpr)\n",
    "    ax = plt.subplot(5,3, 1 + i)\n",
    "    ax.scatter(fpr, tpr)\n",
    "    ax.set_title('Digit: ' + str(i) + ' AUC: ' + str(round(auc,4)))\n",
    "    \n",
    "\n",
    "plt.show()"
   ]
  },
  {
   "cell_type": "code",
   "execution_count": null,
   "metadata": {},
   "outputs": [],
   "source": []
  }
 ],
 "metadata": {
  "kernelspec": {
   "display_name": "Python 3",
   "language": "python",
   "name": "python3"
  },
  "language_info": {
   "codemirror_mode": {
    "name": "ipython",
    "version": 3
   },
   "file_extension": ".py",
   "mimetype": "text/x-python",
   "name": "python",
   "nbconvert_exporter": "python",
   "pygments_lexer": "ipython3",
   "version": "3.6.6"
  }
 },
 "nbformat": 4,
 "nbformat_minor": 2
}
