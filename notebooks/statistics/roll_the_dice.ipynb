{
 "cells": [
  {
   "cell_type": "markdown",
   "metadata": {},
   "source": [
    "# Würfelexperiment"
   ]
  },
  {
   "cell_type": "markdown",
   "metadata": {},
   "source": [
    "Aus der Stochastik wissen wir, dass der *Erwartungswert* für das Ergebnis des Würfelns mit einem 6-seitigen Würfels"
   ]
  },
  {
   "cell_type": "code",
   "execution_count": null,
   "metadata": {},
   "outputs": [],
   "source": [
    "expected_value_dice = 1 * 1/6.0 + 2 * 1/6.0 + 3 * 1/6.0 + 4 * 1/6.0 + 5 * 1/6.0 + 6 * 1/6.0\n",
    "print expected_value_dice"
   ]
  },
  {
   "cell_type": "markdown",
   "metadata": {},
   "source": [
    "ist. Das heißt das mathematische Model sagt uns, wenn wir ein Würfelexperiment lange genug durchführen müsste im Mittel die Zahl 3.5 als Ergebnis rauskommen.\n",
    "\n",
    "**In der Praxis fangen wir normalerweise nicht mit dem mathematischen Modell an, sondern mit irgendwelchen Daten!**\n",
    "\n",
    "Wenn wir die Daten analysieren schauen wir uns evtl. den **empirischen Erwartungswert** an. Der empirische Erwartungswert soll uns als Schätzer für den mathematischen Erwartungswert dienen."
   ]
  },
  {
   "cell_type": "markdown",
   "metadata": {},
   "source": [
    "---"
   ]
  },
  {
   "cell_type": "markdown",
   "metadata": {},
   "source": [
    "Für diese Experiment generieren wir uns mittels des *random* moduls von numpy die Ergebnisse aus dem Experiment"
   ]
  },
  {
   "cell_type": "code",
   "execution_count": null,
   "metadata": {},
   "outputs": [],
   "source": [
    "import numpy as np\n",
    "import scipy, scipy.stats\n",
    "import matplotlib.pyplot as plt"
   ]
  },
  {
   "cell_type": "code",
   "execution_count": null,
   "metadata": {},
   "outputs": [],
   "source": [
    "n = 10\n",
    "spiele_ergebnis = np.random.randint(1,7,n) # Zahlen 1-6 (Die obere Grenze ist nicht eingeschlossen!!)"
   ]
  },
  {
   "cell_type": "markdown",
   "metadata": {},
   "source": [
    "Wir berechnen den empirischen Mittelwert:"
   ]
  },
  {
   "cell_type": "code",
   "execution_count": null,
   "metadata": {},
   "outputs": [],
   "source": [
    "empirischer_erwartungswert = spiele_ergebnis.sum()/float(n)"
   ]
  },
  {
   "cell_type": "markdown",
   "metadata": {},
   "source": [
    "**Aufgabe: Ergänze den Code um die Berechnung der empirischen Varianz **"
   ]
  },
  {
   "cell_type": "markdown",
   "metadata": {},
   "source": [
    "Nun berechnen wir den Fehler zwischen dem rechnerischen und dem empirischen Erwartungswert:"
   ]
  },
  {
   "cell_type": "code",
   "execution_count": null,
   "metadata": {},
   "outputs": [],
   "source": [
    "print \"Rechnerischer Erwartungswert: \", 3.5\n",
    "print \"Emiprischer Erwartungswert: \", empirischer_erwartungswert\n",
    "print \"Fehler: \", np.abs(empirischer_erwartungswert - 3.5)"
   ]
  },
  {
   "cell_type": "markdown",
   "metadata": {},
   "source": [
    "**Wie wir wissen ist der rechnerische Erwartungswert der zugrunde liegenden diskreten Gleichverteilung ist 3.5. Wird der Schätzer genauer, wenn ich mehr Ziehungen habe?**"
   ]
  },
  {
   "cell_type": "markdown",
   "metadata": {},
   "source": [
    "Da sowohl die Summe der Ergebnisse und die Zahl n ganzzahlig ist wird Ergebnis automatisch auf eine ganze Zahl gerundet. Mit `float(n)` n zu einer Fließkommazahl, so dass das Ergebnis als Fließkommazahl ausgegeben wird."
   ]
  },
  {
   "cell_type": "markdown",
   "metadata": {},
   "source": [
    "---"
   ]
  },
  {
   "cell_type": "markdown",
   "metadata": {},
   "source": [
    "Bei kleinem n (z. B. n=10) ist das Ergebnis nicht sonderlich stabil, d. h. bei wiederholten Ausführung des Würfelexperiments (mit gleicher Anzahl n) variert das Ergebnis stark. Mit größerem n ist dies nicht mehr so deutlich, deshalb sagt man, dass das Ergebnis stabiler ist. "
   ]
  }
 ],
 "metadata": {
  "kernelspec": {
   "display_name": "Python 3",
   "language": "python",
   "name": "python3"
  },
  "language_info": {
   "codemirror_mode": {
    "name": "ipython",
    "version": 3
   },
   "file_extension": ".py",
   "mimetype": "text/x-python",
   "name": "python",
   "nbconvert_exporter": "python",
   "pygments_lexer": "ipython3",
   "version": "3.6.6"
  }
 },
 "nbformat": 4,
 "nbformat_minor": 2
}
